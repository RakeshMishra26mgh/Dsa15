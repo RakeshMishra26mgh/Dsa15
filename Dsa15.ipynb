{
  "nbformat": 4,
  "nbformat_minor": 0,
  "metadata": {
    "colab": {
      "provenance": [],
      "authorship_tag": "ABX9TyMl+Asz7bIf7QEYnlGBgkYO",
      "include_colab_link": true
    },
    "kernelspec": {
      "name": "python3",
      "display_name": "Python 3"
    },
    "language_info": {
      "name": "python"
    }
  },
  "cells": [
    {
      "cell_type": "markdown",
      "metadata": {
        "id": "view-in-github",
        "colab_type": "text"
      },
      "source": [
        "<a href=\"https://colab.research.google.com/github/RakeshMishra26mgh/Dsa15/blob/main/Dsa15.ipynb\" target=\"_parent\"><img src=\"https://colab.research.google.com/assets/colab-badge.svg\" alt=\"Open In Colab\"/></a>"
      ]
    },
    {
      "cell_type": "markdown",
      "source": [
        "Answer 1:-"
      ],
      "metadata": {
        "id": "NwEt2HflblaF"
      }
    },
    {
      "cell_type": "code",
      "source": [
        "def printNextGreater(arr, n):\n",
        "  stack = []\n",
        "  result = [-1] * n\n",
        "  for i in range(n-1, -1, -1):\n",
        "    while stack and stack[-1][0] <= arr[i]:\n",
        "      stack.pop()\n",
        "\n",
        "    if stack:\n",
        "      result[i] = stack[-1][0]\n",
        "    stack.append((arr[i], i))\n",
        "  return result\n",
        "\n",
        "\n",
        "n = int(input(\"Enter the size of the array: \"))\n",
        "\n",
        "arr = list(map(int, input(\"Enter the elements of the array separated by space: \").split()))\n",
        "if len(arr) != n:\n",
        "  print(\"Invalid input. The size of the array does not match the number of elements.\")\n",
        "else:\n",
        "  result = printNextGreater(arr, n)\n",
        "  print(\"The next greater elements are: \")\n",
        "  print(*result)\n"
      ],
      "metadata": {
        "id": "mn8HSPXjbncI"
      },
      "execution_count": null,
      "outputs": []
    },
    {
      "cell_type": "markdown",
      "source": [
        "Answer 2:-"
      ],
      "metadata": {
        "id": "7o8oOT7Dcpk0"
      }
    },
    {
      "cell_type": "code",
      "source": [
        "def printNearestSmaller(arr, n):\n",
        "  stack = []\n",
        "  result = []\n",
        "\n",
        "  for i in range(n):\n",
        "\n",
        "    while stack and stack[-1] >= arr[i]:\n",
        "      stack.pop()\n",
        "\n",
        "    if not stack:\n",
        "      result.append(-1)\n",
        "\n",
        "    else:\n",
        "      result.append(stack[-1])\n",
        "    stack.append(arr[i])\n",
        "  return result\n",
        "\n",
        "n = int(input(\"Enter the size of the array: \"))\n",
        "arr = list(map(int, input(\"Enter the elements of the array separated by space: \").split()))\n",
        "if len(arr) != n:\n",
        "  print(\"Invalid input. The size of the array does not match the number of elements.\")\n",
        "else:\n",
        "  result = printNearestSmaller(arr, n)\n",
        "  print(\"The nearest smaller numbers are: \")\n",
        "  print(*result)\n"
      ],
      "metadata": {
        "id": "5-Q6oCfncrcD"
      },
      "execution_count": null,
      "outputs": []
    },
    {
      "cell_type": "markdown",
      "source": [
        "Answer 3:-"
      ],
      "metadata": {
        "id": "bf6KHO02diqV"
      }
    },
    {
      "cell_type": "code",
      "source": [
        "class Stack:\n",
        "\n",
        "  def __init__(self):\n",
        "    self.q1 = []\n",
        "    self.q2 = []\n",
        "    self.top = None\n",
        "\n",
        "\n",
        "  def push(self, x):\n",
        "    self.q1.append(x)\n",
        "    self.top = x\n",
        "\n",
        "  def pop(self):\n",
        "    if not self.q1:\n",
        "      print(\"Stack is empty.\")\n",
        "      return\n",
        "    while len(self.q1) > 1:\n",
        "      self.top = self.q1.pop(0)\n",
        "      self.q2.append(self.top)\n",
        "    popped = self.q1.pop(0)\n",
        "    self.q1, self.q2 = self.q2, self.q1\n",
        "    return popped\n",
        "\n",
        "n = int(input(\"Enter the number of operations: \"))\n",
        "s = Stack()\n",
        "for i in range(n):\n",
        "  op, x = input(\"Enter the operation (push/pop()) and the element (if push) separated by space and if pop then input pop  () only: \").split()\n",
        "  if op == \"push\":\n",
        "    s.push(int(x))\n",
        "  elif op == \"pop\":\n",
        "    print(s.pop())\n",
        "  else:\n",
        "    print(\"Invalid operation.\")\n"
      ],
      "metadata": {
        "id": "hs3sheEQdkXF"
      },
      "execution_count": null,
      "outputs": []
    },
    {
      "cell_type": "markdown",
      "source": [
        "Answer 4:-"
      ],
      "metadata": {
        "id": "m4-qtQHKgkxq"
      }
    },
    {
      "cell_type": "code",
      "source": [
        "def reverse(stack):\n",
        "  if not stack:\n",
        "    return\n",
        "  top = stack.pop()\n",
        "  reverse(stack)\n",
        "  insert(stack, top)\n",
        "\n",
        "def insert(stack, x):\n",
        "  if not stack:\n",
        "    stack.append(x)\n",
        "    return\n",
        "  top = stack.pop()\n",
        "  insert(stack, x)\n",
        "  stack.append(top)\n",
        "\n",
        "n = int(input(\"Enter the size of the stack: \"))\n",
        "stack = list(map(int, input(\"Enter the elements of the stack separated by space: \").split()))\n",
        "if len(stack) != n:\n",
        "  print(\"Invalid input. The size of the stack does not match the number of elements.\")\n",
        "else:\n",
        "  reverse(stack)\n",
        "  print(\"The reversed stack is: \")\n",
        "  print(*stack)\n"
      ],
      "metadata": {
        "id": "JOtRJl6Hgn3C"
      },
      "execution_count": null,
      "outputs": []
    },
    {
      "cell_type": "markdown",
      "source": [
        "Answer 5:-"
      ],
      "metadata": {
        "id": "IPCMpzLUhv5y"
      }
    },
    {
      "cell_type": "code",
      "source": [
        "def reverseString(S):\n",
        "  stack = []\n",
        "  result = \"\"\n",
        "  for char in S:\n",
        "    stack.append(char)\n",
        "  while stack:\n",
        "    result += stack.pop()\n",
        "  return result\n",
        "\n",
        "S = input(\"Enter the string: \")\n",
        "result = reverseString(S)\n",
        "print(\"The reversed string is: \")\n",
        "print(result)\n"
      ],
      "metadata": {
        "id": "e9OAk7Nch0OT"
      },
      "execution_count": null,
      "outputs": []
    },
    {
      "cell_type": "markdown",
      "source": [
        "Answer 6 :-"
      ],
      "metadata": {
        "id": "wAzQukd-inqB"
      }
    },
    {
      "cell_type": "code",
      "source": [
        "def evaluatePostfix(S):\n",
        "  stack = []\n",
        "  for char in S:\n",
        "    if char.isdigit():\n",
        "      stack.append(int(char))\n",
        "    else:\n",
        "      op1 = stack.pop()\n",
        "      op2 = stack.pop()\n",
        "      if char == \"+\":\n",
        "        result = op2 + op1\n",
        "      elif char == \"-\":\n",
        "        result = op2 - op1\n",
        "      elif char == \"*\":\n",
        "        result = op2 * op1\n",
        "      elif char == \"/\":\n",
        "        result = op2 / op1\n",
        "      else:\n",
        "        print(\"Invalid operator.\")\n",
        "        return\n",
        "      stack.append(int(result))\n",
        "  return stack.pop()\n",
        "\n",
        "S = input(\"Enter the postfix expression: \")\n",
        "result = evaluatePostfix(S)\n",
        "print(\"The value of the expression is: \")\n",
        "print(result)\n"
      ],
      "metadata": {
        "id": "hH_S2nLViqD_"
      },
      "execution_count": null,
      "outputs": []
    },
    {
      "cell_type": "markdown",
      "source": [
        "Answer 7:-"
      ],
      "metadata": {
        "id": "s5_Cpea3j8oh"
      }
    },
    {
      "cell_type": "code",
      "source": [
        "class MinStack:\n",
        "\n",
        "  def __init__(self):\n",
        "    self.stack = []\n",
        "    self.min = []\n",
        "\n",
        "  def push(self, val):\n",
        "    self.stack.append(val)\n",
        "    if not self.min or val <= self.min[-1]:\n",
        "      self.min.append(val)\n",
        "\n",
        "  def pop(self):\n",
        "    if not self.stack:\n",
        "      print(\"Stack is empty.\")\n",
        "      return\n",
        "    popped = self.stack.pop()\n",
        "    if popped == self.min[-1]:\n",
        "      self.min.pop()\n",
        "    return popped\n",
        "\n",
        "  def top(self):\n",
        "    if not self.stack:\n",
        "      print(\"Stack is empty.\")\n",
        "      return\n",
        "    return self.stack[-1]\n",
        "\n",
        "  def getMin(self):\n",
        "    if not self.min:\n",
        "      print(\"Stack is empty.\")\n",
        "      return\n",
        "    return self.min[-1]\n",
        "\n",
        "n = int(input(\"Enter the number of operations: \"))\n",
        "s = MinStack()\n",
        "for i in range(n):\n",
        "\n",
        "  op, x = input(\"Enter operation(push/pop/top/getMin) and the element (if push) separated by space else if operation is getMin,top,pop enter top  (),pop  (), getMin  (): \").split()\n",
        "  if op == \"push\":\n",
        "    s.push(int(x))\n",
        "  elif op == \"pop\":\n",
        "    print(s.pop())\n",
        "  elif op == \"top\":\n",
        "    print(s.top())\n",
        "  elif op == \"getMin\":\n",
        "    print(s.getMin())\n",
        "  else:\n",
        "    print(\"Invalid operation.\")\n"
      ],
      "metadata": {
        "id": "DPBDA-3yj-7p"
      },
      "execution_count": null,
      "outputs": []
    },
    {
      "cell_type": "markdown",
      "source": [
        "Answer 8:-"
      ],
      "metadata": {
        "id": "5iyxUuSZnX_P"
      }
    },
    {
      "cell_type": "code",
      "source": [
        "\n",
        "def trap(height):\n",
        "  left = 0\n",
        "  right = len(height) - 1\n",
        "  left_max = 0\n",
        "  right_max = 0\n",
        "  result = 0\n",
        "  while left < right:\n",
        "    if height[left] < height[right]:\n",
        "      if height[left] > left_max:\n",
        "        left_max = height[left]\n",
        "      else:\n",
        "        result += left_max - height[left]\n",
        "      left += 1\n",
        "    else:\n",
        "      if height[right] > right_max:\n",
        "        right_max = height[right]\n",
        "      else:\n",
        "        result += right_max - height[right]\n",
        "      right -= 1\n",
        "  return result\n",
        "\n",
        "n = int(input(\"Enter the size of the array: \"))\n",
        "height = list(map(int, input(\"Enter the elements of the array separated by space: \").split()))\n",
        "if len(height) != n:\n",
        "  print(\"Invalid input. The size of the array does not match the number of elements.\")\n",
        "else:\n",
        "  result = trap(height)\n",
        "  print(\"The amount of water that can be trapped is: \")\n",
        "  print(result)\n"
      ],
      "metadata": {
        "id": "CHw3DgxYnaJx"
      },
      "execution_count": null,
      "outputs": []
    }
  ]
}